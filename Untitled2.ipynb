{
  "nbformat": 4,
  "nbformat_minor": 0,
  "metadata": {
    "colab": {
      "provenance": [],
      "authorship_tag": "ABX9TyNMQeGOTUt3k9T+JcLwg+pk",
      "include_colab_link": true
    },
    "kernelspec": {
      "name": "python3",
      "display_name": "Python 3"
    },
    "language_info": {
      "name": "python"
    }
  },
  "cells": [
    {
      "cell_type": "markdown",
      "metadata": {
        "id": "view-in-github",
        "colab_type": "text"
      },
      "source": [
        "<a href=\"https://colab.research.google.com/github/Camilalareste/-VaiFacil/blob/main/Untitled2.ipynb\" target=\"_parent\"><img src=\"https://colab.research.google.com/assets/colab-badge.svg\" alt=\"Open In Colab\"/></a>"
      ]
    },
    {
      "cell_type": "code",
      "execution_count": 2,
      "metadata": {
        "colab": {
          "base_uri": "https://localhost:8080/",
          "height": 106
        },
        "id": "4ymNcnfOPKde",
        "outputId": "f6ea8f29-b4b3-473e-cbb2-0a0ef360ae32"
      },
      "outputs": [
        {
          "output_type": "error",
          "ename": "SyntaxError",
          "evalue": "unexpected character after line continuation character (<ipython-input-2-6836af25754a>, line 45)",
          "traceback": [
            "\u001b[0;36m  File \u001b[0;32m\"<ipython-input-2-6836af25754a>\"\u001b[0;36m, line \u001b[0;32m45\u001b[0m\n\u001b[0;31m    \\title{Mobilidade Urbana}\u001b[0m\n\u001b[0m     ^\u001b[0m\n\u001b[0;31mSyntaxError\u001b[0m\u001b[0;31m:\u001b[0m unexpected character after line continuation character\n"
          ]
        }
      ],
      "source": [
        "# Definindo uma função para previsão\n",
        "def previsao_chegada(parada, lista_onibus):\n",
        "    # Ordenar os ônibus por proximidade usando QuickSort\n",
        "    lista_onibus = quicksort_onibus(lista_onibus, parada)\n",
        "\n",
        "    # Buscar o ônibus mais próximo usando Busca Binária\n",
        "    onibus_proximo = busca_binaria(lista_onibus, parada)\n",
        "\n",
        "    # Calcular o tempo estimado de chegada\n",
        "    if onibus_proximo != -1:\n",
        "        tempo_estimado = calcular_tempo_chegada(lista_onibus[onibus_proximo], parada)\n",
        "        return tempo_estimado\n",
        "    else:\n",
        "        return None\n",
        "\n",
        "# Algoritmo de QuickSort para ordenar ônibus por proximidade\n",
        "def quicksort_onibus(lista_onibus, parada):\n",
        "    if len(lista_onibus) <= 1:\n",
        "        return lista_onibus\n",
        "    pivot = lista_onibus[len(lista_onibus) // 2]\n",
        "    left = [x for x in lista_onibus if x.get('distancia', float('inf')) < pivot.get('distancia', float('inf'))]\n",
        "    right = [x for x in lista_onibus if x.get('distancia', float('inf')) > pivot.get('distancia', float('inf'))]\n",
        "    return quicksort_onibus(left, parada) + [pivot] + quicksort_onibus(right, parada)\n",
        "\n",
        "# Função de Busca Binária para encontrar o ônibus mais próximo\n",
        "def busca_binaria(lista_onibus, parada):\n",
        "    baixo = 0\n",
        "    alto = len(lista_onibus) - 1\n",
        "    while baixo <= alto:\n",
        "        meio = (baixo + alto) // 2\n",
        "        if lista_onibus[meio].get('distancia', float('inf')) == parada.get('distancia', float('inf')):\n",
        "            return meio\n",
        "        elif lista_onibus[meio].get('distancia', float('inf')) < parada.get('distancia', float('inf')):\n",
        "            baixo = meio + 1\n",
        "        else:\n",
        "            alto = meio - 1\n",
        "    return -1\n",
        "\n",
        "# Função para calcular o tempo estimado de chegada\n",
        "def calcular_tempo_chegada(onibus, parada):\n",
        "    velocidade_media = 40  # Velocidade média em km/h\n",
        "    distancia = onibus.get('distancia', 0)\n",
        "    tempo_estimado = distancia / velocidade_media * 60  # Tempo em minutos\n",
        "    return tempo_estimado\n",
        "\\title{Mobilidade Urbana}\n",
        "\\author{Camila Lareste}\n",
        "\\date{March 2025}\n",
        "\n",
        "\\begin{document}\n",
        "\n",
        "\\maketitle\n",
        "\n",
        "\\section{Introduction}\n",
        "\\textbf{Projeto de Solução para Mobilidade Urbana no Recife}\n",
        "\n",
        "\\textbf{1. Introduço}\n",
        "\n",
        "O Recife enfrenta desafios significativos em sua mobilidade urbana, com crescimento populacional, congestionamentos e infraestrutura em expansão. O \\textbf{Plano de Mobilidade Urbana do Recife} visa integrar modos de transporte e priorizar deslocamentos sustentáveis. A proposta apresentada aqui busca complementar esse plano com o uso de \\textbf{ciência de dados, modelos preditivos e algoritmos de aprendizado de máquina} para otimizar a gestão da mobilidade na cidade.\n",
        "\n",
        "\\textbf{2. Objetivo}\n",
        "\n",
        "Desenvolver um sistema baseado em \\textbf{análise de dados e inteligência artificial} para prever congestionamentos, otimizar trajetos e facilitar a integração entre diferentes modais de transporte. O objetivo é fornecer insights para a CTTU e outros órgãos reguladores, permitindo uma \\textbf{gestão proativa da mobilidade urbana}.\n",
        "\n",
        "\\textbf{3. Metodologia}\n",
        "# Algoritmo para previsão de chegada dos ônibus utilizando Mobi e Busca Binária\n",
        "\n",
        "# Definindo uma função para previsão\n",
        "def previsao_chegada(parada, lista_onibus):\n",
        "    # Ordenar os ônibus por proximidade usando QuickSort\n",
        "    lista_onibus = quicksort_onibus(lista_onibus, parada)\n",
        "\n",
        "    # Buscar o ônibus mais próximo usando Busca Binária\n",
        "    onibus_proximo = busca_binaria(lista_onibus, parada)\n",
        "\n",
        "    # Calcular o tempo estimado de chegada\n",
        "    tempo_estimado = calcular_tempo_chegada(onibus_proximo, parada)\n",
        "\n",
        "    return tempo_estimado\n",
        "\n",
        "# Algoritmo de QuickSort para ordenar ônibus por proximidade\n",
        "def quicksort_onibus(lista_onibus, parada):\n",
        "    if len(lista_onibus) <= 1:\n",
        "        return lista_onibus\n",
        "    pivot = lista_onibus[len(lista_onibus) // 2]\n",
        "    left = [x for x in lista_onibus if x['distancia'] < pivot['distancia']]\n",
        "    right = [x for x in lista_onibus if x['distancia'] > pivot['distancia']]\n",
        "    return quicksort_onibus(left, parada) + [pivot] + quicksort_onibus(right, parada)\n",
        "\n",
        "# Função de Busca Binária para encontrar o ônibus mais próximo\n",
        "def busca_binaria(lista_onibus, parada):\n",
        "    baixo = 0\n",
        "    alto = len(lista_onibus) - 1\n",
        "    while baixo <= alto:\n",
        "        meio = (baixo + alto) // 2\n",
        "        if lista_onibus[meio]['distancia'] == parada['distancia']:\n",
        "            return meio\n",
        "        elif lista_onibus[meio]['distancia'] < parada['distancia']:\n",
        "            baixo = meio + 1\n",
        "        else:\n",
        "            alto = meio - 1\n",
        "    return -1\n",
        "\n",
        "# Função para calcular o tempo estimado de chegada\n",
        "def calcular_tempo_chegada(onibus, parada):\n",
        "    velocidade_media = 40  # Velocidade média em km/h\n",
        "    distancia = onibus['distancia']\n",
        "    tempo_estimado = distancia / velocidade_media * 60  # Tempo em minutos\n",
        "    return tempo_estimado\n",
        "\n",
        "\\textbf{3.1 Coleta de Dados}\n",
        "\n",
        "Os dados serão coletados a partir de fontes diversas, incluindo:\n",
        "\n",
        "\\begin{itemize}\n",
        "    \\item \\textbf{Dados públicos da CTTU} (fluxo de tráfego, acidentes, interdições);\n",
        "    \\item \\textbf{Pesquisas de origem e destino};\n",
        "    \\item \\textbf{Sensores urbanos e câmeras} (se disponíveis);\n",
        "    \\item \\textbf{APIs de serviços de mapas} (Google Maps, Waze);\n",
        "    \\item \\textbf{Redes Sociais e feedback da população}.\n",
        "\\end{itemize}\n",
        "\\textbf{3.2 Processamento e Limpeza dos Dados}\n",
        "\n",
        "\\begin{itemize}\n",
        "    \\item Tratamento de dados inconsistentes;\n",
        "    \\item Normalização de variáveis (MinMaxScaler, StandardScaler);\n",
        "    \\item Codificação de variáveis categóricas (One-Hot Encoding);\n",
        "    \\item Redução de dimensionalidade (PCA).\n",
        "\\end{itemize}\n",
        "\\textbf{3.3 Modelagem Preditiva}\n",
        "\n",
        "\\textbf{3.3.1 Algoritmos Utilizados}\n",
        "\n",
        "\\begin{itemize}\n",
        "    \\item \\textbf{K-Means}: Para segmentação de padrões de deslocamento e agrupamento de zonas críticas.\n",
        "    \\item \\textbf{Redes Neurais (MLPClassifier)}: Para prever congestionamentos com base em histórico de dados.\n",
        "    \\item \\textbf{Random Forest \\& XGBoost}: Para classificação e análise de impacto de eventos na mobilidade.\n",
        "    \\item \\textbf{Regressão Logística}: Para avaliar a probabilidade de ocorrência de interdições e atrasos.\n",
        "\\end{itemize}\n",
        "\\textbf{3.3.2 Métricas de Avaliação}\n",
        "\n",
        "\\begin{itemize}\n",
        "    \\item \\textbf{Silhouette Score} para validação do clustering;\n",
        "    \\item \\textbf{ROC AUC} para medir a qualidade dos modelos classificatórios;\n",
        "    \\item \\textbf{Matriz de confusão} para avaliação de acurácia em predições;\n",
        "    \\item \\textbf{Análise de viabilidade das previsões} com dados reais.\n",
        "\\end{itemize}\n",
        "\\textbf{4. Aplicabilidade}\n",
        "\n",
        "Os resultados do modelo serão aplicados em:\n",
        "\n",
        "\\begin{itemize}\n",
        "    \\item \\textbf{Painel interativo (Dashboard)} para monitoramento em tempo real;\n",
        "    \\item \\textbf{Simulação de cenários} para tomada de decisão;\n",
        "    \\item \\textbf{Sugestão de rotas alternativas} para transporte público e privado;\n",
        "    \\item \\textbf{Integração com planejamento urbano} para expansão da infraestrutura viária.\n",
        "\\end{itemize}\n",
        "\\textbf{5. Conclusão}\n",
        "\n",
        "  \\textbf{. Objetivo}\n",
        "\n",
        "O projeto tem como objetivo desenvolver uma solução inteligente para a análise e monitoramento do trânsito, utilizando \\textbf{modelos preditivos} e \\textbf{segmentação K-Means} para melhorar a eficiência na gestão de tráfego. O foco é oferecer essa solução para a CETENE, proporcionando insights estratégicos sobre padrões de fluxo veicular e prevenindo congestionamentos.\n",
        "\n",
        "\\textbf{2. Justificativa}\n",
        "\n",
        "A gestão eficiente do trânsito é um desafio crescente nas cidades, afetando a mobilidade urbana, poluição e qualidade de vida. Com o uso de \\textbf{machine learning} e \\textbf{análise preditiva}, é possível:\n",
        "\n",
        "\\begin{itemize}\n",
        "    \\item Identificar padrões de tráfego em tempo real;\n",
        "    \\item Prever congestionamentos e otimizar rotas;\n",
        "    \\item Melhorar a distribuição do fluxo veicular;\n",
        "    \\item Reduzir custos operacionais e impacto ambiental.\n",
        "\\end{itemize}\n",
        "\\textbf{3. Metodologia}\n",
        "\n",
        "O projeto será desenvolvido em 4 etapas principais:\n",
        "\n",
        "\\textbf{3.1. Coleta de Dados}\n",
        "\n",
        "\\begin{itemize}\n",
        "    \\item \\textbf{Fontes}: Sensores de trânsito, câmeras, APIs de mapas, histórico de deslocamento.\n",
        "    \\item \\textbf{Variáveis}: Horário, localização, volume de tráfego, velocidade média, condição climática.\n",
        "\\end{itemize}\n",
        "\\textbf{3.2. Processamento e Normalização}\n",
        "\n",
        "\\begin{itemize}\n",
        "    \\item \\textbf{Tratamento de dados}: Remoção de outliers, preenchimento de valores ausentes.\n",
        "    \\item \\textbf{Escalonamento}: Uso de \\textbf{MinMaxScaler, StandardScaler, RobustScaler}.\n",
        "\\end{itemize}\n",
        "\\textbf{3.3. Análise Exploratória e Clusterização}\n",
        "\n",
        "\\begin{itemize}\n",
        "    \\item \\textbf{Visualização de padrões} com \\textbf{Seaborn e Plotly}.\n",
        "    \\item \\textbf{Clusterização K-Means} para identificar padrões de tráfego e zonas críticas.\n",
        "    \\item \\textbf{Silhouette Score} para avaliar qualidade dos clusters.\n",
        "\\end{itemize}\n",
        "\\textbf{3.4. Modelagem Preditiva}\n",
        "\n",
        "\\begin{itemize}\n",
        "    \\item \\textbf{Modelos}: RandomForest, XGBoost, MLPClassifier (redes neurais).\n",
        "    \\item \\textbf{Métricas de avaliação}: Acurácia, ROC AUC, matriz de confusão.\n",
        "    \\item \\textbf{Oversampling com SMOTE} para balanceamento de classes.\n",
        "\\end{itemize}\n",
        "\\textbf{. Objetivo}\n",
        "\n",
        "O projeto tem como objetivo desenvolver uma solução inteligente para a análise e monitoramento do trânsito, utilizando \\textbf{modelos preditivos} e \\textbf{segmentação K-Means} para melhorar a eficiência na gestão de tráfego. O foco é oferecer essa solução para a CETENE, proporcionando insights estratégicos sobre padrões de fluxo veicular e prevenindo congestionamentos.\n",
        "\n",
        "\\textbf{2. Justificativa}\n",
        "\n",
        "A gestão eficiente do trânsito é um desafio crescente nas cidades, afetando a mobilidade urbana, poluição e qualidade de vida. Com o uso de \\textbf{machine learning} e \\textbf{análise preditiva}, é possível:\n",
        "\n",
        "\\begin{itemize}\n",
        "    \\item Identificar padrões de tráfego em tempo real;\n",
        "    \\item Prever congestionamentos e otimizar rotas;\n",
        "    \\item Melhorar a distribuição do fluxo veicular;\n",
        "    \\item Reduzir custos operacionais e impacto ambiental.\n",
        "\\end{itemize}\n",
        "\\textbf{3. Metodologia}\n",
        "\n",
        "O projeto será desenvolvido em 4 etapas principais:\n",
        "\n",
        "\\textbf{3.1. Coleta de Dados}\n",
        "\n",
        "\\begin{itemize}\n",
        "    \\item \\textbf{Fontes}: Sensores de trânsito, câmeras, APIs de mapas, histórico de deslocamento.\n",
        "    \\item \\textbf{Variáveis}: Horário, localização, volume de tráfego, velocidade média, condição climática.\n",
        "\\end{itemize}\n",
        "\\textbf{3.2. Processamento e Normalização}\n",
        "\n",
        "\\begin{itemize}\n",
        "    \\item \\textbf{Tratamento de dados}: Remoção de outliers, preenchimento de valores ausentes.\n",
        "    \\item \\textbf{Escalonamento}: Uso de \\textbf{MinMaxScaler, StandardScaler, RobustScaler}.\n",
        "\\end{itemize}\n",
        "\\textbf{3.3. Análise Exploratória e Clusterização}\n",
        "\n",
        "\\begin{itemize}\n",
        "    \\item \\textbf{Visualização de padrões} com \\textbf{Seaborn e Plotly}.\n",
        "    \\item \\textbf{Clusterização K-Means} para identificar padrões de tráfego e zonas críticas.\n",
        "    \\item \\textbf{Silhouette Score} para avaliar qualidade dos clusters.\n",
        "\\end{itemize}\n",
        "\\textbf{3.4. Modelagem Preditiva}\n",
        "\n",
        "\\begin{itemize}\n",
        "    \\item \\textbf{Modelos}: RandomForest, XGBoost, MLPClassifier (redes neurais).\n",
        "    \\item \\textbf{Métricas de avaliação}: Acurácia, ROC AUC, matriz de confusão.\n",
        "    \\item \\textbf{Oversampling com SMOTE} para balanceamento de classes.\n",
        "\\end{itemize}\n",
        "  Este projeto propõe uma abordagem \\textbf{baseada em dados para otimizar a mobilidade urbana} do Recife. A análise preditiva permitirá que gestores tomem decisões mais assertivas, reduzindo congestionamentos e melhorando a eficiência do transporte na cidade.\n",
        "\n",
        "\\textbf{Próximos Passos:}\n",
        "\n",
        "\\begin{enumerate}\n",
        "    \\item Coletar e consolidar as bases de dados;\n",
        "    \\item Implementar e testar os modelos preditivos;\n",
        "    \\item Criar uma interface de visualização (Dashboard);\n",
        "    \\item Apresentar os resultados para a CETENE e Marcelo;\n",
        "    \\item Avaliar possíveis parcerias com a Prefeitura do Recife.\n",
        "\\end{enumerate}\n",
        "Ótima ideia! Vamos estruturar uma \\textbf{apresentação profissional e impactante} para o \\textbf{CETENE} e o projeto \\textbf{VaiFácil}.\n",
        "\n",
        "A apresentação precisa ser:\n",
        "\n",
        " ✅ \\textbf{Baseada em dados} → Mobilidade, ESG, emissões de carbono, impacto financeiro.\n",
        "\n",
        " ✅ \\textbf{Comparativa} → Recife vs. outras cidades.\n",
        "\n",
        " ✅ \\textbf{Técnica, mas clara} → Uso de IA, machine learning, otimização logística.\n",
        "\n",
        " ✅ \\textbf{Focada na solução} → Como o \\textbf{VaiFácil} resolve os problemas atuais.\n",
        "\n",
        "\\end{document}\n"
      ]
    },
    {
      "source": [
        "def previsao_chegada(parada, lista_onibus):\n",
        "    # Ordenar os ônibus por proximidade usando QuickSort\n",
        "    lista_onibus = quicksort_onibus(lista_onibus, parada)\n",
        "\n",
        "    # Buscar o ônibus mais próximo usando Busca Binária\n",
        "    onibus_proximo = busca_binaria(lista_onibus, parada)\n",
        "\n",
        "    # Calcular o tempo estimado de chegada\n",
        "    if onibus_proximo != -1:\n",
        "        tempo_estimado = calcular"
      ],
      "cell_type": "code",
      "metadata": {
        "id": "XRDWrxQFPgTY"
      },
      "execution_count": 3,
      "outputs": []
    },
    {
      "source": [
        "def quicksort_onibus(lista_onibus, parada):\n",
        "    if len(lista_onibus) <= 1:\n",
        "        return lista_onibus\n",
        "    pivot = lista_onibus[len(lista_onibus) // 2]\n",
        "    left = [x for x in lista_onibus if x.get('distancia', float('inf')) < pivot.get('distancia', float('inf'))]\n",
        "    right = [x for x in lista_onibus if x.get('distancia', float('inf')) > pivot.get('distancia', float('inf'))]\n",
        "    return quicksort_onibus(left, parada) + [pivot] + quicksort_onibus(right, parada)"
      ],
      "cell_type": "code",
      "metadata": {
        "id": "awf_3YpEPmAw"
      },
      "execution_count": 4,
      "outputs": []
    },
    {
      "source": [
        "def busca_binaria(lista_onibus, parada):\n",
        "    baixo = 0\n",
        "    alto = len(lista_onibus) - 1\n",
        "    while baixo <= alto:\n",
        "        meio = (baixo + alto) // 2\n",
        "        if lista_onibus[meio].get('distancia', float('inf')) == parada.get('distancia', float('inf')):\n",
        "            return meio\n",
        "        elif lista_onibus[meio].get('distancia', float('inf')) < parada.get('distancia', float('inf')):\n",
        "            baixo = meio + 1\n",
        "        else:\n",
        "            alto = meio - 1\n",
        "    return -1"
      ],
      "cell_type": "code",
      "metadata": {
        "id": "LtHBuxj1Pny4"
      },
      "execution_count": 5,
      "outputs": []
    },
    {
      "source": [
        "def calcular_tempo_chegada(onibus, parada):\n",
        "    velocidade_media = 40  # Velocidade média em km/h\n",
        "    distancia = onibus.get('distancia', 0)\n",
        "    tempo_estimado = distancia / velocidade_media * 60  # Tempo em minutos\n",
        "    return tempo_estimado"
      ],
      "cell_type": "code",
      "metadata": {
        "id": "OY1sTf7lPpQw"
      },
      "execution_count": 6,
      "outputs": []
    },
    {
      "source": [
        "parada = {'nome': 'Parada Central', 'distancia': 0}  # A parada em si tem distância 0 dela mesma\n",
        "\n",
        "lista_onibus = [\n",
        "    {'id': 'Onibus 1', 'distancia': 2},\n",
        "    {'id': 'Onibus 2', 'distancia': 5},\n",
        "    {'id': 'Onibus 3', 'distancia': 1},\n",
        "]"
      ],
      "cell_type": "code",
      "metadata": {
        "id": "4O3oFIMIQEFw"
      },
      "execution_count": 7,
      "outputs": []
    },
    {
      "source": [
        "# Chamando a função principal para prever a chegada:\n",
        "tempo_estimado = previsao_chegada(parada, lista_onibus)\n",
        "\n",
        "# Imprimindo o resultado:\n",
        "if tempo_estimado is not None:\n",
        "    print(f\"O ônibus mais próximo chegará em aproximadamente {tempo_estimado:.2f} minutos.\")\n",
        "else:\n",
        "    print(\"Não há ônibus próximos a esta parada no momento.\")"
      ],
      "cell_type": "code",
      "metadata": {
        "colab": {
          "base_uri": "https://localhost:8080/"
        },
        "id": "2AR1f6R-QGT_",
        "outputId": "10f2202e-9a6e-424a-bf3d-ccc05bc26bdc"
      },
      "execution_count": 8,
      "outputs": [
        {
          "output_type": "stream",
          "name": "stdout",
          "text": [
            "Não há ônibus próximos a esta parada no momento.\n"
          ]
        }
      ]
    },
    {
      "source": [
        "import random\n",
        "\n",
        "# Função para simular a obtenção de dados de localização dos ônibus\n",
        "def obter_localizacao_onibus():\n",
        "    onibus = [\n",
        "        {'id': 'Onibus 1', 'linha': '101', 'distancia_parada': 2},\n",
        "        {'id': 'Onibus 2', 'linha': '101', 'distancia_parada': 5},\n",
        "        {'id': 'Onibus 3', 'linha': '102', 'distancia_parada': 1},\n",
        "    ]\n",
        "    return onibus\n",
        "\n",
        "# Função para simular a previsão de chegada\n",
        "def prever_chegada(onibus, velocidade_media=40):\n",
        "    tempo_estimado = onibus['distancia_parada'] / velocidade_media * 60\n",
        "    return tempo_estimado\n",
        "\n",
        "# Função para simular a sugestão de rotas alternativas\n",
        "def sugerir_rota_alternativa(linha_onibus, incidente=False):\n",
        "    if linha_onibus == '101' and incidente:\n",
        "        return \"Sugestão: Utilize a linha 102 ou o metrô como alternativa.\"\n",
        "    else:\n",
        "        return \"Sem rotas alternativas no momento.\"\n",
        "\n",
        "# Simulação do sistema\n",
        "parada = 'Parada Central'\n",
        "onibus_na_parada = obter_localizacao_onibus()\n",
        "\n",
        "print(f\"Previsões de chegada na {parada}:\")\n",
        "for onibus in onibus_na_parada:\n",
        "    tempo = prever_chegada(onibus)\n",
        "    print(f\"- {onibus['id']} (linha {onibus['linha']}): {tempo:.2f} minutos\")\n",
        "\n",
        "# Simulação de um incidente na linha 101\n",
        "incidente_na_linha_101 = random.choice([True, False])\n",
        "\n",
        "if incidente_na_linha_101:\n",
        "    print(\"\\nAlerta: Incidente na linha 101!\")\n",
        "\n",
        "# Sugestão de rota alternativa\n",
        "for onibus in onibus_na_parada:\n",
        "    if onibus['linha'] == '101':\n",
        "        sugestao = sugerir_rota_alternativa(onibus['linha'], incidente_na_linha_101)\n",
        "        print(sugestao)"
      ],
      "cell_type": "code",
      "metadata": {
        "colab": {
          "base_uri": "https://localhost:8080/"
        },
        "id": "2GP2ynkYTz6f",
        "outputId": "3a9ee35b-0d60-4c27-f53c-830392640a27"
      },
      "execution_count": 9,
      "outputs": [
        {
          "output_type": "stream",
          "name": "stdout",
          "text": [
            "Previsões de chegada na Parada Central:\n",
            "- Onibus 1 (linha 101): 3.00 minutos\n",
            "- Onibus 2 (linha 101): 7.50 minutos\n",
            "- Onibus 3 (linha 102): 1.50 minutos\n",
            "\n",
            "Alerta: Incidente na linha 101!\n",
            "Sugestão: Utilize a linha 102 ou o metrô como alternativa.\n",
            "Sugestão: Utilize a linha 102 ou o metrô como alternativa.\n"
          ]
        }
      ]
    },
    {
      "source": [
        "Previsões de chegada na Parada Central:\n",
        "- Onibus 1 (linha 101): 3.00 minutos\n",
        "- Onibus 2 (linha 101): 7.50 minutos\n",
        "- Onibus 3 (linha 102): 1.50 minutos\n",
        "\n",
        "Alerta: Incidente na linha 101!\n",
        "Sugestão: Utilize a linha 102 ou o metrô como alternativa.\n",
        "- Onibus 3 (linha 102): 1.50 minutos\n",
        "\n",
        "Alerta: Incidente na linha 101!\n",
        "Sugestão: Utilize a linha 102 ou o metrô como alternativa.\n",
        "Sugestão: Utilize a linha 102 ou o metrô como alternativa.\n",
        "- Onibus 3 (linha 102): 1.50 minutos\n",
        "\n",
        "Alerta: Incidente na linha 101!\n",
        "Sugestão: Utilize a linha 102 ou o metrô como alternativa.\n",
        "- Onibus 3 (linha 102): 1.50 minutos\n",
        "\n",
        "Alerta: Incidente na linha 101!\n",
        "Sugestão: Utilize a linha 102 ou o metrô como alternativa.\n",
        "Sugestão: Utilize a linha 102 ou o metrô como alternativa."
      ],
      "cell_type": "code",
      "metadata": {
        "colab": {
          "base_uri": "https://localhost:8080/",
          "height": 106
        },
        "id": "BupTmnpXT3t4",
        "outputId": "aac31490-a093-420a-ee77-66d1f75b1bc2"
      },
      "execution_count": 11,
      "outputs": [
        {
          "output_type": "error",
          "ename": "SyntaxError",
          "evalue": "invalid syntax (<ipython-input-11-570494735e67>, line 1)",
          "traceback": [
            "\u001b[0;36m  File \u001b[0;32m\"<ipython-input-11-570494735e67>\"\u001b[0;36m, line \u001b[0;32m1\u001b[0m\n\u001b[0;31m    Previsões de chegada na Parada Central:\u001b[0m\n\u001b[0m              ^\u001b[0m\n\u001b[0;31mSyntaxError\u001b[0m\u001b[0;31m:\u001b[0m invalid syntax\n"
          ]
        }
      ]
    },
    {
      "source": [
        "import random\n",
        "\n",
        "# Função para simular a obtenção de dados de localização dos ônibus\n",
        "def obter_localizacao_onibus():\n",
        "    onibus = [\n",
        "        {'id': 'Onibus 1', 'linha': '101', 'distancia_parada': 2},\n",
        "        {'id': 'Onibus 2', 'linha': '101', 'distancia_parada': 5},\n",
        "        {'id': 'Onibus 3', 'linha': '102', 'distancia_parada': 1},\n",
        "    ]\n",
        "    return onibus\n",
        "\n",
        "# Função para simular a previsão de chegada\n",
        "def prever_chegada(onibus, velocidade_media=40):\n",
        "    tempo_estimado = onibus['distancia_parada'] / velocidade_media * 60\n",
        "    return tempo_estimado\n",
        "\n",
        "# Função para simular a sugestão de rotas alternativas\n",
        "def sugerir_rota_alternativa(linha_onibus, incidente=False):\n",
        "    if linha_onibus == '101' and incidente:\n",
        "        return \"Sugestão: Utilize a linha 102 ou o metrô como alternativa.\"\n",
        "    else:\n",
        "        return \"Sem rotas alternativas no momento.\"\n",
        "\n",
        "# Simulação do sistema\n",
        "parada = 'Parada Central'\n",
        "onibus_na_parada = obter_localizacao_onibus()\n",
        "\n",
        "print(f\"Previsões de chegada na {parada}:\")\n",
        "for onibus in onibus_na_parada:\n",
        "    tempo = prever_chegada(onibus)\n",
        "    print(f\"- {onibus['id']} (linha {onibus['linha']}): {tempo:.2f} minutos\")\n",
        "\n",
        "# Simulação de um incidente na linha 101\n",
        "incidente_na_linha_101 = random.choice([True, False])\n",
        "\n",
        "if incidente_na_"
      ],
      "cell_type": "code",
      "metadata": {
        "colab": {
          "base_uri": "https://localhost:8080/",
          "height": 106
        },
        "id": "TN2WmcarUF22",
        "outputId": "9eb122bc-b2b5-48c9-cde1-9b2e6dd1e71c"
      },
      "execution_count": 12,
      "outputs": [
        {
          "output_type": "error",
          "ename": "SyntaxError",
          "evalue": "expected ':' (<ipython-input-12-93df4f2f561b>, line 36)",
          "traceback": [
            "\u001b[0;36m  File \u001b[0;32m\"<ipython-input-12-93df4f2f561b>\"\u001b[0;36m, line \u001b[0;32m36\u001b[0m\n\u001b[0;31m    if incidente_na_\u001b[0m\n\u001b[0m                    ^\u001b[0m\n\u001b[0;31mSyntaxError\u001b[0m\u001b[0;31m:\u001b[0m expected ':'\n"
          ]
        }
      ]
    },
    {
      "source": [
        "Previsões de chegada na Parada Central:\n",
        "- Onibus 1 (linha 101): 3.00 minutos\n",
        "- Onibus 2 (linha 101): 7.50 minutos\n",
        "- Onibus 3 (linha 102): 1.50 minutos\n",
        "\n",
        "Alerta: Incidente na linha 101!\n",
        "Sugestão: Utilize a linha 102 ou o metrô como alternativa.\n",
        "- Onibus 3 (linha 102): 1.50 minutos\n",
        "\n",
        "Alerta: Incidente na linha 101!\n",
        "Sugestão: Utilize a linha 102 ou o metrô como alternativa."
      ],
      "cell_type": "code",
      "metadata": {
        "colab": {
          "base_uri": "https://localhost:8080/",
          "height": 106
        },
        "id": "tKXl8qrBUJWn",
        "outputId": "cb56f912-0fb2-40d7-a888-45e2c1875f31"
      },
      "execution_count": 14,
      "outputs": [
        {
          "output_type": "error",
          "ename": "SyntaxError",
          "evalue": "invalid syntax (<ipython-input-14-cfe2070fd926>, line 1)",
          "traceback": [
            "\u001b[0;36m  File \u001b[0;32m\"<ipython-input-14-cfe2070fd926>\"\u001b[0;36m, line \u001b[0;32m1\u001b[0m\n\u001b[0;31m    Previsões de chegada na Parada Central:\u001b[0m\n\u001b[0m              ^\u001b[0m\n\u001b[0;31mSyntaxError\u001b[0m\u001b[0;31m:\u001b[0m invalid syntax\n"
          ]
        }
      ]
    },
    {
      "source": [
        "import random\n",
        "\n",
        "# ... (as outras funções permanecem iguais) ...\n",
        "\n",
        "# Simulação do sistema\n",
        "parada = 'Parada Central'\n",
        "onibus_na_parada = obter_localizacao_onibus()\n",
        "\n",
        "print(f\"Previsões de chegada na {parada}:\")\n",
        "for onibus in onibus_na_parada:\n",
        "    tempo = prever_chegada(onibus)\n",
        "    print(f\"- {onibus['id']} (linha {onibus['linha']}): {tempo:.2f} minutos\")\n",
        "\n",
        "# Simulação de um incidente na linha 101\n",
        "incidente_na_linha_101 = random.choice([True, False])\n",
        "\n",
        "if incidente_na_linha_101:\n",
        "    print(\"\\nAlerta: Incidente na linha 101!\")\n",
        "    # Chamar a função e imprimir a sugestão apenas uma vez\n",
        "    sugestao = sugerir_rota_alternativa('101', incidente_na_linha_101)\n",
        "    print(sugestao)"
      ],
      "cell_type": "code",
      "metadata": {
        "colab": {
          "base_uri": "https://localhost:8080/"
        },
        "id": "raJ2nCkwUZFe",
        "outputId": "1463b675-324f-4654-b616-00001ec436df"
      },
      "execution_count": 15,
      "outputs": [
        {
          "output_type": "stream",
          "name": "stdout",
          "text": [
            "Previsões de chegada na Parada Central:\n",
            "- Onibus 1 (linha 101): 3.00 minutos\n",
            "- Onibus 2 (linha 101): 7.50 minutos\n",
            "- Onibus 3 (linha 102): 1.50 minutos\n"
          ]
        }
      ]
    },
    {
      "source": [
        "Previsões de chegada na Parada Central:\n",
        "- Onibus 1 (linha 101): 3.00 minutos\n",
        "- Onibus 2 (linha 101): 7.50 minutos\n",
        "- Onibus 3 (linha 102): 1.50 minutos\n",
        "\n",
        "Alerta: Incidente na linha 101!\n",
        "Sugestão: Utilize a linha 102 ou o metrô como alternativa.\n",
        "- Onibus 3 (linha 102): 1.50 minutos\n",
        "\n",
        "Alerta: Incidente na linha 101!\n",
        "Sugestão: Utilize a linha 102 ou o metrô como alternativa."
      ],
      "cell_type": "code",
      "metadata": {
        "colab": {
          "base_uri": "https://localhost:8080/",
          "height": 106
        },
        "id": "sBwxK5vnUawn",
        "outputId": "837d7b99-8a87-4266-a062-8e455e6d97b3"
      },
      "execution_count": 18,
      "outputs": [
        {
          "output_type": "error",
          "ename": "SyntaxError",
          "evalue": "invalid syntax (<ipython-input-18-cfe2070fd926>, line 1)",
          "traceback": [
            "\u001b[0;36m  File \u001b[0;32m\"<ipython-input-18-cfe2070fd926>\"\u001b[0;36m, line \u001b[0;32m1\u001b[0m\n\u001b[0;31m    Previsões de chegada na Parada Central:\u001b[0m\n\u001b[0m              ^\u001b[0m\n\u001b[0;31mSyntaxError\u001b[0m\u001b[0;31m:\u001b[0m invalid syntax\n"
          ]
        }
      ]
    },
    {
      "source": [
        "Previsões de chegada na Parada Central:\n",
        "- Onibus 1 (linha 101): 3.00 minutos\n",
        "- Onibus 2 (linha 101): 7.50 minutos\n",
        "- Onibus 3 (linha 102): 1.50 minutos\n",
        "\n",
        "- Onibus 3 (linha 102): 1.50 minutos\n",
        "\n",
        "- Onibus 3 (linha 102): 1.50 minutos\n",
        "\n",
        "- Onibus 3 (linha 102): 1.50 minutos\n",
        "- Onibus 3 (linha 102): 1.50 minutos\n",
        "\n",
        "- Onibus 3 (linha 102): 1.50 minutos\n",
        "\n",
        "- Onibus 3 (linha 102): 1.50 minutos\n",
        "\n",
        "- Onibus 3 (linha 102): 1.50 minutos"
      ],
      "cell_type": "code",
      "metadata": {
        "colab": {
          "base_uri": "https://localhost:8080/",
          "height": 106
        },
        "id": "TbIsUs7kUcKP",
        "outputId": "75990923-2b79-4590-bdd9-e80d01c8da02"
      },
      "execution_count": 20,
      "outputs": [
        {
          "output_type": "error",
          "ename": "SyntaxError",
          "evalue": "invalid syntax (<ipython-input-20-645195074a9d>, line 1)",
          "traceback": [
            "\u001b[0;36m  File \u001b[0;32m\"<ipython-input-20-645195074a9d>\"\u001b[0;36m, line \u001b[0;32m1\u001b[0m\n\u001b[0;31m    Previsões de chegada na Parada Central:\u001b[0m\n\u001b[0m              ^\u001b[0m\n\u001b[0;31mSyntaxError\u001b[0m\u001b[0;31m:\u001b[0m invalid syntax\n"
          ]
        }
      ]
    },
    {
      "source": [
        "import random\n",
        "\n",
        "# ... (as outras funções permanecem iguais) ...\n",
        "\n",
        "# Simulação do sistema\n",
        "parada = 'Parada Central'\n",
        "onibus_na_parada = obter_localizacao_onibus()\n",
        "\n",
        "print(f\"Previsões de chegada na {parada}:\")\n",
        "for onibus in onibus_na_parada:\n",
        "    tempo = prever_chegada(onibus)\n",
        "    print(f\"- {onibus['id']} (linha {onibus['linha']}): {tempo:.2f} minutos\")\n",
        "\n",
        "# Simulação de um incidente na linha 101\n",
        "incidente_na_linha_101 = random.choice([True, False])\n",
        "\n",
        "if incidente_na_linha_101:\n",
        "    print(\"\\nAlerta: Incidente na linha 101!\")\n",
        "    sugestao_impressa = False  # Variável de controle\n",
        "    for onibus in onibus_na_parada:\n",
        "        if onibus['linha'] == '101' and not sugestao_impressa:\n",
        "            sugestao = sugerir_rota_alternativa(onibus['linha'], incidente_na_linha_101)\n",
        "            print(sugestao)\n",
        "            sugestao_impressa = True  # Marcar como impressa"
      ],
      "cell_type": "code",
      "metadata": {
        "colab": {
          "base_uri": "https://localhost:8080/"
        },
        "id": "6tZUmILIUsXo",
        "outputId": "7e1e5193-0f1f-49f2-950c-edf74c616de3"
      },
      "execution_count": 21,
      "outputs": [
        {
          "output_type": "stream",
          "name": "stdout",
          "text": [
            "Previsões de chegada na Parada Central:\n",
            "- Onibus 1 (linha 101): 3.00 minutos\n",
            "- Onibus 2 (linha 101): 7.50 minutos\n",
            "- Onibus 3 (linha 102): 1.50 minutos\n",
            "\n",
            "Alerta: Incidente na linha 101!\n",
            "Sugestão: Utilize a linha 102 ou o metrô como alternativa.\n"
          ]
        }
      ]
    },
    {
      "source": [
        "Previsões de chegada na Parada Central:\n",
        "- Onibus 1 (linha 101): 3.00 minutos\n",
        "- Onibus 2 (linha 101): 7.50 minutos\n",
        "- Onibus 3 (linha 102): 1.50 minutos\n",
        "\n",
        "Alerta: Incidente na linha 101!\n",
        "Sugestão: Utilize a linha 102 ou o metrô como alternativa.\n",
        "- Onibus 3 (linha 102): 1.50 minutos\n",
        "\n",
        "Alerta: Incidente na linha 101!\n",
        "Sugestão: Utilize a linha 102 ou o metrô como alternativa."
      ],
      "cell_type": "code",
      "metadata": {
        "colab": {
          "base_uri": "https://localhost:8080/",
          "height": 106
        },
        "id": "uwjVNnb0UvTO",
        "outputId": "9044e0fe-77e4-4054-c085-496e12e63b8f"
      },
      "execution_count": 22,
      "outputs": [
        {
          "output_type": "error",
          "ename": "SyntaxError",
          "evalue": "invalid syntax (<ipython-input-22-cfe2070fd926>, line 1)",
          "traceback": [
            "\u001b[0;36m  File \u001b[0;32m\"<ipython-input-22-cfe2070fd926>\"\u001b[0;36m, line \u001b[0;32m1\u001b[0m\n\u001b[0;31m    Previsões de chegada na Parada Central:\u001b[0m\n\u001b[0m              ^\u001b[0m\n\u001b[0;31mSyntaxError\u001b[0m\u001b[0;31m:\u001b[0m invalid syntax\n"
          ]
        }
      ]
    },
    {
      "source": [
        "Previsões de chegada na Parada Central:\n",
        "- Onibus 1 (linha 101): 3.00 minutos\n",
        "- Onibus 2 (linha 101): 7.50 minutos\n",
        "- Onibus 3 (linha 102): 1.50 minutos\n",
        "\n",
        "Alerta: Incidente na linha 101!\n",
        "Sugestão: Utilize a linha 102 ou o metrô como alternativa."
      ],
      "cell_type": "code",
      "metadata": {
        "colab": {
          "base_uri": "https://localhost:8080/",
          "height": 106
        },
        "id": "0oOKO9WmUzCl",
        "outputId": "143012ad-1f70-4088-c983-a2d66fb68ffe"
      },
      "execution_count": 23,
      "outputs": [
        {
          "output_type": "error",
          "ename": "SyntaxError",
          "evalue": "invalid syntax (<ipython-input-23-cfe2070fd926>, line 1)",
          "traceback": [
            "\u001b[0;36m  File \u001b[0;32m\"<ipython-input-23-cfe2070fd926>\"\u001b[0;36m, line \u001b[0;32m1\u001b[0m\n\u001b[0;31m    Previsões de chegada na Parada Central:\u001b[0m\n\u001b[0m              ^\u001b[0m\n\u001b[0;31mSyntaxError\u001b[0m\u001b[0;31m:\u001b[0m invalid syntax\n"
          ]
        }
      ]
    },
    {
      "source": [
        "import random\n",
        "\n",
        "# ... (as outras funções permanecem iguais) ...\n",
        "\n",
        "# Simulação do sistema\n",
        "parada = 'Parada Central'\n",
        "onibus_na_parada = obter_localizacao_onibus()\n",
        "\n",
        "print(f\"Previsões de chegada na {parada}:\")\n",
        "for onibus in onibus_na_parada:\n",
        "    tempo = prever_chegada(onibus)\n",
        "    print(f\"- {onibus['id']} (linha {onibus['linha']}): {tempo"
      ],
      "cell_type": "code",
      "metadata": {
        "id": "oJAFYwmVU4XV"
      },
      "execution_count": null,
      "outputs": []
    },
    {
      "source": [
        "import random\n",
        "\n",
        "# ... (as outras funções permanecem iguais) ...\n",
        "\n",
        "# Simulação do sistema\n",
        "parada = 'Parada Central'\n",
        "onibus_na_parada = obter_localizacao_onibus()\n",
        "\n",
        "print(f\"Previsões de chegada na {parada}:\")\n",
        "for onibus in onibus_na_parada:\n",
        "    tempo = prever_chegada(onibus)\n",
        "    print(f\"- {onibus['id']} (linha {onibus['linha']}): {tempo:.2f} minutos\")\n",
        "\n",
        "# Simulação de um incidente na linha 101\n",
        "incidente_na_linha_101 = random.choice([True, False])\n",
        "\n",
        "if incidente_na_linha_101:\n",
        "    print(\"\\nAlerta: Incidente na linha 101!\")\n",
        "    # Chamar a função e imprimir a sugestão apenas uma vez\n",
        "    sugestao = sugerir_rota_alternativa('101', incidente_na_linha_101)\n",
        "    print(sugestao)"
      ],
      "cell_type": "code",
      "metadata": {
        "colab": {
          "base_uri": "https://localhost:8080/"
        },
        "id": "EMHTYagPU5wW",
        "outputId": "9c100dd1-af84-4687-a1cc-89fb0b6c1467"
      },
      "execution_count": 24,
      "outputs": [
        {
          "output_type": "stream",
          "name": "stdout",
          "text": [
            "Previsões de chegada na Parada Central:\n",
            "- Onibus 1 (linha 101): 3.00 minutos\n",
            "- Onibus 2 (linha 101): 7.50 minutos\n",
            "- Onibus 3 (linha 102): 1.50 minutos\n",
            "\n",
            "Alerta: Incidente na linha 101!\n",
            "Sugestão: Utilize a linha 102 ou o metrô como alternativa.\n"
          ]
        }
      ]
    },
    {
      "source": [
        "Previsões de chegada na Parada Central:\n",
        "- Onibus 1 (linha 101): 3.00 minutos\n",
        "- Onibus 2 (linha 101): 7.50 minutos\n",
        "- Onibus 3 (linha 102): 1.50 minutos\n",
        "\n",
        "Alerta: Incidente na linha 101!\n",
        "Sugestão: Utilize a linha 102 ou o metrô como alternativa.\n",
        "- Onibus 3 (linha 102): 1.50 minutos\n",
        "\n",
        "Alerta: Incidente na linha 101!\n",
        "Sugestão: Utilize a linha 102 ou o metrô como alternativa."
      ],
      "cell_type": "code",
      "metadata": {
        "colab": {
          "base_uri": "https://localhost:8080/",
          "height": 106
        },
        "id": "8bnR6G_OU8BO",
        "outputId": "85180784-1f00-424f-ffe8-e16aaf641d23"
      },
      "execution_count": 25,
      "outputs": [
        {
          "output_type": "error",
          "ename": "SyntaxError",
          "evalue": "invalid syntax (<ipython-input-25-cfe2070fd926>, line 1)",
          "traceback": [
            "\u001b[0;36m  File \u001b[0;32m\"<ipython-input-25-cfe2070fd926>\"\u001b[0;36m, line \u001b[0;32m1\u001b[0m\n\u001b[0;31m    Previsões de chegada na Parada Central:\u001b[0m\n\u001b[0m              ^\u001b[0m\n\u001b[0;31mSyntaxError\u001b[0m\u001b[0;31m:\u001b[0m invalid syntax\n"
          ]
        }
      ]
    },
    {
      "source": [
        "import random\n",
        "\n",
        "# ... (as outras funções permanecem iguais) ...\n",
        "\n",
        "# Simulação do sistema\n",
        "parada = 'Parada Central'\n",
        "onibus_na_parada = obter_localizacao_onibus()\n",
        "\n",
        "print(f\"Previsões de chegada na {parada}:\")\n",
        "for onibus in onibus_na_parada:\n",
        "    tempo = prever_chegada(onibus)\n",
        "    print(f\"- {onibus['id']} (linha {onibus['linha']}): {tempo:.2f} minutos\")\n",
        "\n",
        "# Simulação de um incidente na linha 101\n",
        "incidente_na_linha_101 = random.choice([True, False])\n",
        "\n",
        "if incidente_na_linha_101:\n",
        "    print(\"\\nAlerta: Incidente na linha 101!\")\n",
        "    sugestao_impressa = False  # Variável de controle\n",
        "    for onibus in onibus_na_parada:\n",
        "        if onibus['linha'] == '101' and not sugestao_impressa:\n",
        "            sugestao = sugerir_rota_alternativa(onibus['linha'], incidente_na_linha_101)\n",
        "            print(sugestao)\n",
        "            sugestao_impressa = True  # Marcar como impressa"
      ],
      "cell_type": "code",
      "metadata": {
        "colab": {
          "base_uri": "https://localhost:8080/"
        },
        "id": "2It5ryxkVL9V",
        "outputId": "c735ec44-2649-4f87-d121-c4e80c6471ea"
      },
      "execution_count": 27,
      "outputs": [
        {
          "output_type": "stream",
          "name": "stdout",
          "text": [
            "Previsões de chegada na Parada Central:\n",
            "- Onibus 1 (linha 101): 3.00 minutos\n",
            "- Onibus 2 (linha 101): 7.50 minutos\n",
            "- Onibus 3 (linha 102): 1.50 minutos\n"
          ]
        }
      ]
    },
    {
      "source": [
        "Previsões de chegada na Parada Central:\n",
        "- Onibus 1 (linha 101): 3.00 minutos\n",
        "- Onibus 2 (linha 101): 7.50 minutos\n",
        "- Onibus 3 (linha 102): 1.50 minutos\n",
        "\n",
        "Alerta: Incidente na linha 101!\n",
        "Sugestão: Utilize a linha 102 ou o metrô como alternativa."
      ],
      "cell_type": "code",
      "metadata": {
        "colab": {
          "base_uri": "https://localhost:8080/",
          "height": 106
        },
        "id": "Luafqr44VOOd",
        "outputId": "61653f50-124a-476c-a23d-9877384c333c"
      },
      "execution_count": 28,
      "outputs": [
        {
          "output_type": "error",
          "ename": "SyntaxError",
          "evalue": "invalid syntax (<ipython-input-28-cfe2070fd926>, line 1)",
          "traceback": [
            "\u001b[0;36m  File \u001b[0;32m\"<ipython-input-28-cfe2070fd926>\"\u001b[0;36m, line \u001b[0;32m1\u001b[0m\n\u001b[0;31m    Previsões de chegada na Parada Central:\u001b[0m\n\u001b[0m              ^\u001b[0m\n\u001b[0;31mSyntaxError\u001b[0m\u001b[0;31m:\u001b[0m invalid syntax\n"
          ]
        }
      ]
    },
    {
      "source": [
        "import random\n",
        "\n",
        "# ... (funções obter_localizacao_onibus, prever_chegada, sugerir_rota_alternativa) ...\n",
        "\n",
        "# Simulação do sistema\n",
        "parada = 'Parada Central'\n",
        "onibus_na_parada = obter_localizacao_onibus()\n",
        "\n",
        "print(f\"Previsões de chegada na {parada}:\")\n",
        "for onibus in onibus_na_parada:\n",
        "    # Simula o impacto do tráfego na velocidade\n",
        "    velocidade_media = 40 - random.randint(0, 15)\n",
        "    tempo = prever_chegada(onibus, velocidade_media)\n",
        "    print(f\"- {onibus['id']} (linha {onibus['linha']}): {tempo:.2f} minutos\")\n",
        "\n",
        "# Simulação de incidente na BR-101\n",
        "incidente_br101 = True\n",
        "\n",
        "if incidente_br101:\n",
        "    print(\"\\nAlerta: Acidente na BR-101 causando congestionamento!\")\n",
        "    print(sugerir_rota_alternativa('101', incidente_br101))  # Sugestão para linha afetada\n",
        "\n",
        "# Simulação de alerta de chuva\n",
        "alerta_chuva = True\n",
        "\n",
        "if alerta_chuva:\n",
        "    print(\"\\nAlerta: Previsão de chuva forte para amanhã. Planeje seu trajeto com antecedência!\")\n",
        "    print(\"Sugestão: Utilize aplicativos de transporte ou considere alternativas como o metrô.\")"
      ],
      "cell_type": "code",
      "metadata": {
        "colab": {
          "base_uri": "https://localhost:8080/"
        },
        "id": "1Ps5H3pyVi1z",
        "outputId": "f093235b-76bd-4566-b624-d920d8d23888"
      },
      "execution_count": 30,
      "outputs": [
        {
          "output_type": "stream",
          "name": "stdout",
          "text": [
            "Previsões de chegada na Parada Central:\n",
            "- Onibus 1 (linha 101): 4.14 minutos\n",
            "- Onibus 2 (linha 101): 11.11 minutos\n",
            "- Onibus 3 (linha 102): 1.71 minutos\n",
            "\n",
            "Alerta: Acidente na BR-101 causando congestionamento!\n",
            "Sugestão: Utilize a linha 102 ou o metrô como alternativa.\n",
            "\n",
            "Alerta: Previsão de chuva forte para amanhã. Planeje seu trajeto com antecedência!\n",
            "Sugestão: Utilize aplicativos de transporte ou considere alternativas como o metrô.\n"
          ]
        }
      ]
    },
    {
      "source": [
        "Previsões de chegada na Parada Central:\n",
        "- Onibus 1 (linha 101): 3.00 minutos\n",
        "- Onibus 2 (linha 101): 7.50 minutos\n",
        "- Onibus 3 (linha 102): 1.50 minutos\n",
        "\n",
        "- Onibus 3 (linha 102): 1.50 minutos\n",
        "\n",
        "- Onibus 3 (linha 102): 1.50 minutos\n",
        "\n",
        "- Onibus 3 (linha 102): 1.50 minutos"
      ],
      "cell_type": "code",
      "metadata": {
        "colab": {
          "base_uri": "https://localhost:8080/",
          "height": 106
        },
        "id": "FXGoB5XzU9Wt",
        "outputId": "73f2f794-860f-41bf-fc9d-ab27e86fefd3"
      },
      "execution_count": 31,
      "outputs": [
        {
          "output_type": "error",
          "ename": "SyntaxError",
          "evalue": "invalid syntax (<ipython-input-31-3b14696dd6dc>, line 1)",
          "traceback": [
            "\u001b[0;36m  File \u001b[0;32m\"<ipython-input-31-3b14696dd6dc>\"\u001b[0;36m, line \u001b[0;32m1\u001b[0m\n\u001b[0;31m    Previsões de chegada na Parada Central:\u001b[0m\n\u001b[0m              ^\u001b[0m\n\u001b[0;31mSyntaxError\u001b[0m\u001b[0;31m:\u001b[0m invalid syntax\n"
          ]
        }
      ]
    }
  ]
}